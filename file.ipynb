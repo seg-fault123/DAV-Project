{
 "cells": [
  {
   "cell_type": "code",
   "execution_count": 19,
   "metadata": {},
   "outputs": [],
   "source": [
    "from bs4 import BeautifulSoup\n",
    "import requests\n",
    "import json\n",
    "import csv\n",
    "\n",
    "req=requests.get(\"https://www.prokabaddi.com/stats/1-102-total-points-statistics\")\n",
    "soup=BeautifulSoup(req.content,\"html.parser\")\n",
    "new=soup.find_all('script')[4].string\n",
    "new=new[new.find('{'):]\n",
    "new2=json.loads(new)\n",
    "file=new2[\"stats\"][\"data\"]\n",
    "\n",
    "\n",
    "keys = file[0].keys()\n",
    "\n",
    "with open('people.csv', 'w', newline='') as output_file:\n",
    "    dict_writer = csv.DictWriter(output_file, keys)\n",
    "    dict_writer.writeheader()\n",
    "    dict_writer.writerows(file)\n"
   ]
  }
 ],
 "metadata": {
  "kernelspec": {
   "display_name": "Python 3",
   "language": "python",
   "name": "python3"
  },
  "language_info": {
   "codemirror_mode": {
    "name": "ipython",
    "version": 3
   },
   "file_extension": ".py",
   "mimetype": "text/x-python",
   "name": "python",
   "nbconvert_exporter": "python",
   "pygments_lexer": "ipython3",
   "version": "3.10.11"
  },
  "orig_nbformat": 4
 },
 "nbformat": 4,
 "nbformat_minor": 2
}
